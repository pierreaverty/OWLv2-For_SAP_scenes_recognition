{
 "cells": [
  {
   "cell_type": "code",
   "execution_count": 1,
   "metadata": {},
   "outputs": [
    {
     "name": "stderr",
     "output_type": "stream",
     "text": [
      "/home/omilab-gpu/OWLv2-For_SAP_scenes_recognition/.env/lib/python3.8/site-packages/tqdm/auto.py:21: TqdmWarning: IProgress not found. Please update jupyter and ipywidgets. See https://ipywidgets.readthedocs.io/en/stable/user_install.html\n",
      "  from .autonotebook import tqdm as notebook_tqdm\n"
     ]
    }
   ],
   "source": [
    "import os\n",
    "import torch\n",
    "\n",
    "import numpy as np\n",
    "import matplotlib.pyplot as plt\n",
    "import matplotlib.patches as patches\n",
    "\n",
    "from transformers import Owlv2Processor, Owlv2ForObjectDetection\n",
    "from PIL import Image"
   ]
  },
  {
   "cell_type": "code",
   "execution_count": 2,
   "metadata": {},
   "outputs": [],
   "source": [
    "def plot_results(results, texts, image):\n",
    "    \"\"\"\n",
    "    Plots the results of object detection on an image.\n",
    "    \n",
    "    Args:\n",
    "        results (list): List of dictionaries containing the detected object information.\n",
    "        texts (list): List of text labels corresponding to the detected objects.\n",
    "        image (PIL.JpegImagePlugin.JpegImageFile): The input image on which the objects are detected.\n",
    "    \"\"\"\n",
    "    boxes, scores, labels = results[0][\"boxes\"], results[0][\"scores\"], results[0][\"labels\"]\n",
    "    text = texts[0]\n",
    "    colors = np.random.random((len(text),3))\n",
    "    fig, ax = plt.subplots()\n",
    "    ax.imshow(image)\n",
    "    \n",
    "    # Iteration on every boxes, scores and labels\n",
    "    for box, score, label in zip(boxes, scores, labels):\n",
    "        box = [round(i, 2) for i in box.detach().cpu().numpy()]\n",
    "\n",
    "        # Convertion of the coordinates of the box for Matplotlib (x, y, width, length)\n",
    "        x, y, xmax, ymax = box\n",
    "        rect = patches.Rectangle((x, y), xmax - x, ymax - y, linewidth=1, edgecolor=colors[label], facecolor='none')\n",
    "        \n",
    "        ax.add_patch(rect)\n",
    "        plt.text(x, y - 10, f'{text[label]}: {round(score.item(), 2)}', color='white', fontsize=8, backgroundcolor=colors[label])\n",
    "        \n",
    "        print(f\"Detected {text[label]} with confidence {round(score.item(), 3)} at location {box}\")\n",
    "   \n",
    "    plt.axis('off')\n",
    "    plt.show()\n"
   ]
  },
  {
   "cell_type": "code",
   "execution_count": 3,
   "metadata": {},
   "outputs": [],
   "source": [
    "processor = Owlv2Processor.from_pretrained(\"google/owlv2-base-patch16-ensemble\")\n",
    "model = Owlv2ForObjectDetection.from_pretrained(\"google/owlv2-base-patch16-ensemble\").cuda()"
   ]
  },
  {
   "cell_type": "code",
   "execution_count": null,
   "metadata": {},
   "outputs": [],
   "source": [
    "target_image = Image.open(requests.get(target_url, stream=True).raw)\n",
    "target_sizes = torch.Tensor([image.size[::-1]])\n",
    "\n",
    "# Source image\n",
    "source_image = Image.open(requests.get(source_url, stream=True).raw)"
   ]
  },
  {
   "cell_type": "code",
   "execution_count": null,
   "metadata": {},
   "outputs": [],
   "source": [
    "# Initialize processor and model\n",
    "processor = Owlv2Processor.from_pretrained(\"google/owlv2-base-patch16-ensemble\")\n",
    "model = Owlv2ForObjectDetection.from_pretrained(\"google/owlv2-base-patch16-ensemble\")\n",
    "\n",
    "# Assuming you have a CUDA device available, move the model to the GPU\n",
    "device = torch.device(\"cuda\") if torch.cuda.is_available() else torch.device(\"cpu\")\n",
    "model.to(device)\n",
    "\n",
    "# Load the image\n",
    "path = \"/home/omilab-gpu/OWLv2-For_SAP_scenes_recognition/data/iLoveIMG IMG 6542.jpg\"\n",
    "image = Image.open(path)\n",
    "\n",
    "# Example text input\n",
    "texts = [[\"businessmen figure\", \"oldwomen front\", \"Bus figure\"]]\n",
    "\n",
    "# Generate inputs\n",
    "inputs = processor(text=texts, images=image, return_tensors=\"pt\")\n",
    "\n",
    "# Move each tensor in the inputs dictionary to the GPU\n",
    "inputs = {name: tensor.to(device) for name, tensor in inputs.items()}\n",
    "\n",
    "# Perform inference 5 times\n",
    "for _ in range(5):\n",
    "    # Generate inputs\n",
    "    inputs = processor(text=texts, images=image, return_tensors=\"pt\")\n",
    "\n",
    "    # Move each tensor in the inputs dictionary to the GPU\n",
    "    inputs = {name: tensor.to(device) for name, tensor in inputs.items()}\n",
    "\n",
    "    # Perform inference\n",
    "    with torch.no_grad():\n",
    "        outputs = model(**inputs)\n",
    "    \n",
    "\n",
    "\n",
    "# Target image sizes (height, width) to rescale box predictions [batch_size, 2]\n",
    "target_sizes = torch.Tensor([image.size[::-1]])\n",
    "# Convert outputs (bounding boxes and class logits) to Pascal VOC Format (xmin, ymin, xmax, ymax)\n",
    "results = processor.post_process_object_detection(outputs=outputs, target_sizes=target_sizes, threshold=0.1)\n",
    "plot_results(results, texts, image)"
   ]
  }
 ],
 "metadata": {
  "kernelspec": {
   "display_name": ".env",
   "language": "python",
   "name": "python3"
  },
  "language_info": {
   "codemirror_mode": {
    "name": "ipython",
    "version": 3
   },
   "file_extension": ".py",
   "mimetype": "text/x-python",
   "name": "python",
   "nbconvert_exporter": "python",
   "pygments_lexer": "ipython3",
   "version": "3.8.10"
  }
 },
 "nbformat": 4,
 "nbformat_minor": 2
}
